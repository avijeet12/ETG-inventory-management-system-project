{
  "nbformat": 4,
  "nbformat_minor": 0,
  "metadata": {
    "colab": {
      "name": "Purchasing product.ipynb",
      "provenance": []
    },
    "kernelspec": {
      "name": "python3",
      "display_name": "Python 3"
    },
    "language_info": {
      "name": "python"
    }
  },
  "cells": [
    {
      "cell_type": "code",
      "metadata": {
        "id": "c4lTHG4rOje_"
      },
      "source": [
        "records={1001:{'name':'Horlicks','price':250,'qn':50,'weight':'500gm packet'},\n",
        "         1002:{'name':'Complain','price':300,'qn':70,'weight':'500gm packet'},\n",
        "         1003:{'name':'Bournvita','price':600,'qn':45,'weight':'1kg packet'},\n",
        "         1004:{'name':'Brenolia','price':300,'qn':30,'weight':'250gm packet'},\n",
        "         1005:{'name':'Dairymilk','price':60,'qn':100,'weight':'20gm packet'},\n",
        "         1006:{'name':'Milkcake','price':150,'qn':50,'weight':'50gm packet'},\n",
        "         1007:{'name':'Cocacola','price':60,'qn':70,'bottle':'1litre'},\n",
        "         1008:{'name':'MountainDew','price':80,'qn':50,'bottle':'1litre'},\n",
        "         1009:{'name':'Pepsi','price':120,'qn':65,'bottle':'2litre'},\n",
        "         1010:{'name':'Fanta','price':50,'qn':70,'bottle':'1litre'},\n",
        "         1011:{'name':'Slice','price':150,'qn':80,'bottle':'2litre'},\n",
        "         1012:{'name':'Rice','price':150,'qn':70,'weight':'5kg packet'},\n",
        "         1013:{'name':'Dal','price':120,'qn':90,'weight':'1kg packet'},\n",
        "         1014:{'name':'Salt','price':50,'qn':75,'weight':'500gm packet'},\n",
        "         1015:{'name':'pen','price':20,'qn':100,'color':'black'},\n",
        "         1016:{'name':'copy','price':65,'qn':80,'company':'classmate'},\n",
        "         1017:{'name':'Mobile','price':40000,'qn':50,'company':'Samsung'},\n",
        "         1018:{'name':'Laptop','price':60000,'qn':40,'company':'Dell'},\n",
        "         1019:{'name':'Printer','price':12000,'qn':80,'company':'Canon'},\n",
        "         1020:{'name':'Keyboard','price':2000,'qn':100,'company':'hp'},\n",
        "         1021:{'name':'Monitor','price':2500,'qn':55,'company':'Dell'},\n",
        "         1022:{'name':'Camera','price':80000,'qn':80,'company':'Nikon'},\n",
        "         1023:{'name':'watch','price':1500,'qn':60,'company':'Timex'},\n",
        "         1024:{'name':'calculator','price':550,'qn':70,'company':'Casio'},\n",
        "         1025:{'name':'Bulb','price':120,'qn':50,'company':'Philips'}}"
      ],
      "execution_count": 20,
      "outputs": []
    },
    {
      "cell_type": "code",
      "metadata": {
        "colab": {
          "base_uri": "https://localhost:8080/"
        },
        "id": "hhrzDpkKOmUd",
        "outputId": "73df3dd3-94c1-4cf6-93b2-762b90e52c02"
      },
      "source": [
        "records"
      ],
      "execution_count": 21,
      "outputs": [
        {
          "output_type": "execute_result",
          "data": {
            "text/plain": [
              "{1001: {'name': 'Horlicks', 'price': 250, 'qn': 50, 'weight': '500gm packet'},\n",
              " 1002: {'name': 'Complain', 'price': 300, 'qn': 70, 'weight': '500gm packet'},\n",
              " 1003: {'name': 'Bournvita', 'price': 600, 'qn': 45, 'weight': '1kg packet'},\n",
              " 1004: {'name': 'Brenolia', 'price': 300, 'qn': 30, 'weight': '250gm packet'},\n",
              " 1005: {'name': 'Dairymilk', 'price': 60, 'qn': 100, 'weight': '20gm packet'},\n",
              " 1006: {'name': 'Milkcake', 'price': 150, 'qn': 50, 'weight': '50gm packet'},\n",
              " 1007: {'bottle': '1litre', 'name': 'Cocacola', 'price': 60, 'qn': 70},\n",
              " 1008: {'bottle': '1litre', 'name': 'MountainDew', 'price': 80, 'qn': 50},\n",
              " 1009: {'bottle': '2litre', 'name': 'Pepsi', 'price': 120, 'qn': 65},\n",
              " 1010: {'bottle': '1litre', 'name': 'Fanta', 'price': 50, 'qn': 70},\n",
              " 1011: {'bottle': '2litre', 'name': 'Slice', 'price': 150, 'qn': 80},\n",
              " 1012: {'name': 'Rice', 'price': 150, 'qn': 70, 'weight': '5kg packet'},\n",
              " 1013: {'name': 'Dal', 'price': 120, 'qn': 90, 'weight': '1kg packet'},\n",
              " 1014: {'name': 'Salt', 'price': 50, 'qn': 75, 'weight': '500gm packet'},\n",
              " 1015: {'color': 'black', 'name': 'pen', 'price': 20, 'qn': 100},\n",
              " 1016: {'company': 'classmate', 'name': 'copy', 'price': 65, 'qn': 80},\n",
              " 1017: {'company': 'Samsung', 'name': 'Mobile', 'price': 40000, 'qn': 50},\n",
              " 1018: {'company': 'Dell', 'name': 'Laptop', 'price': 60000, 'qn': 40},\n",
              " 1019: {'company': 'Canon', 'name': 'Printer', 'price': 12000, 'qn': 80},\n",
              " 1020: {'company': 'hp', 'name': 'Keyboard', 'price': 2000, 'qn': 100},\n",
              " 1021: {'company': 'Dell', 'name': 'Monitor', 'price': 2500, 'qn': 55},\n",
              " 1022: {'company': 'Nikon', 'name': 'Camera', 'price': 80000, 'qn': 80},\n",
              " 1023: {'company': 'Timex', 'name': 'watch', 'price': 1500, 'qn': 60},\n",
              " 1024: {'company': 'Casio', 'name': 'calculator', 'price': 550, 'qn': 70},\n",
              " 1025: {'company': 'Philips', 'name': 'Bulb', 'price': 120, 'qn': 50}}"
            ]
          },
          "metadata": {},
          "execution_count": 21
        }
      ]
    },
    {
      "cell_type": "code",
      "metadata": {
        "id": "0psKpIe5PIhv"
      },
      "source": [
        "import json"
      ],
      "execution_count": 22,
      "outputs": []
    },
    {
      "cell_type": "code",
      "metadata": {
        "id": "OTqfpXxdPRYW"
      },
      "source": [
        "js=json.dumps(records)"
      ],
      "execution_count": 23,
      "outputs": []
    },
    {
      "cell_type": "code",
      "metadata": {
        "id": "11Jgg6eTPX00"
      },
      "source": [
        "fd=open('records.json','w')\n",
        "fd.write(js)\n",
        "fd.close()"
      ],
      "execution_count": 24,
      "outputs": []
    },
    {
      "cell_type": "code",
      "metadata": {
        "id": "2e184g1vVhzS"
      },
      "source": [
        "fd=open(\"records.json\",'r')\n",
        "r=fd.read()\n",
        "fd.close()\n",
        "records=json.loads(r)"
      ],
      "execution_count": 25,
      "outputs": []
    },
    {
      "cell_type": "code",
      "metadata": {
        "colab": {
          "base_uri": "https://localhost:8080/"
        },
        "id": "xFn9suqJQK_N",
        "outputId": "5be5f012-0967-446b-be18-7442e16f6e2c"
      },
      "source": [
        "a=int(input('how many products you want to purchase'))\n",
        "for i in range(0,a,1):\n",
        "  ui_prod=str(input('enter the product_id:'))\n",
        "  ui_quant=int(input('enter the quantity:'))\n",
        "  print('product:',records[ui_prod]['name'])\n",
        "  print('price:',records[ui_prod]['price'])\n",
        "  print('Billing amount:',records[ui_prod]['price']*ui_quant)\n",
        "  records[ui_prod]['qn']=records[ui_prod]['qn']-ui_quant"
      ],
      "execution_count": 30,
      "outputs": [
        {
          "output_type": "stream",
          "name": "stdout",
          "text": [
            "how many products you want to purchase2\n",
            "enter the product_id:1002\n",
            "enter the quantity:3\n",
            "product: Complain\n",
            "price: 300\n",
            "Billing amount: 900\n",
            "enter the product_id:1010\n",
            "enter the quantity:4\n",
            "product: Fanta\n",
            "price: 50\n",
            "Billing amount: 200\n"
          ]
        }
      ]
    }
  ]
}