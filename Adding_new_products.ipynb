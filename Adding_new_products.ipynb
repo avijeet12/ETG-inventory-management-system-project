{
  "nbformat": 4,
  "nbformat_minor": 0,
  "metadata": {
    "colab": {
      "name": "Adding new products.ipynb",
      "provenance": [],
      "collapsed_sections": []
    },
    "kernelspec": {
      "name": "python3",
      "display_name": "Python 3"
    },
    "language_info": {
      "name": "python"
    }
  },
  "cells": [
    {
      "cell_type": "code",
      "metadata": {
        "id": "mfFrf4G7I9az"
      },
      "source": [
        "records={1001:{'name':'Horlicks','price':250,'qn':50,'weight':'500gm packet'},\n",
        "         1002:{'name':'Complain','price':300,'qn':70,'weight':'500gm packet'},\n",
        "         1003:{'name':'Bournvita','price':600,'qn':45,'weight':'1kg packet'},\n",
        "         1004:{'name':'Brenolia','price':300,'qn':30,'weight':'250gm packet'},\n",
        "         1005:{'name':'Dairymilk','price':60,'qn':100,'weight':'20gm packet'},\n",
        "         1006:{'name':'Milkcake','price':150,'qn':50,'weight':'50gm packet'},\n",
        "         1007:{'name':'Cocacola','price':60,'qn':70,'bottle':'1litre'},\n",
        "         1008:{'name':'MountainDew','price':80,'qn':50,'bottle':'1litre'},\n",
        "         1009:{'name':'Pepsi','price':120,'qn':65,'bottle':'2litre'},\n",
        "         1010:{'name':'Fanta','price':50,'qn':70,'bottle':'1litre'},\n",
        "         1011:{'name':'Slice','price':150,'qn':80,'bottle':'2litre'},\n",
        "         1012:{'name':'Rice','price':150,'qn':70,'weight':'5kg packet'},\n",
        "         1013:{'name':'Dal','price':120,'qn':90,'weight':'1kg packet'},\n",
        "         1014:{'name':'Salt','price':50,'qn':75,'weight':'500gm packet'},\n",
        "         1015:{'name':'pen','price':20,'qn':100,'color':'black'},\n",
        "         1016:{'name':'copy','price':65,'qn':80,'company':'classmate'},\n",
        "         1017:{'name':'Mobile','price':40000,'qn':50,'company':'Samsung'},\n",
        "         1018:{'name':'Laptop','price':60000,'qn':40,'company':'Dell'},\n",
        "         1019:{'name':'Printer','price':12000,'qn':80,'company':'Canon'},\n",
        "         1020:{'name':'Keyboard','price':2000,'qn':100,'company':'hp'},\n",
        "         1021:{'name':'Monitor','price':2500,'qn':55,'company':'Dell'},\n",
        "         1022:{'name':'Camera','price':80000,'qn':80,'company':'Nikon'},\n",
        "         1023:{'name':'watch','price':1500,'qn':60,'company':'Timex'},\n",
        "         1024:{'name':'calculator','price':550,'qn':70,'company':'Casio'},\n",
        "         1025:{'name':'Bulb','price':120,'qn':50,'company':'Philips'}}"
      ],
      "execution_count": 1,
      "outputs": []
    },
    {
      "cell_type": "code",
      "metadata": {
        "colab": {
          "base_uri": "https://localhost:8080/"
        },
        "id": "dX187XkJtERF",
        "outputId": "46ad357a-40a9-4a65-e619-f7941f38210b"
      },
      "source": [
        "records"
      ],
      "execution_count": null,
      "outputs": [
        {
          "output_type": "execute_result",
          "data": {
            "text/plain": [
              "{1001: {'name': 'Horlicks', 'price': 250, 'qn': 50, 'weight': '500gm packet'},\n",
              " 1002: {'name': 'Complain', 'price': 300, 'qn': 70, 'weight': '500gm packet'},\n",
              " 1003: {'name': 'Bournvita', 'price': 600, 'qn': 45, 'weight': '1kg packet'},\n",
              " 1004: {'name': 'Brenolia', 'price': 300, 'qn': 30, 'weight': '250gm packet'},\n",
              " 1005: {'name': 'Dairymilk', 'price': 60, 'qn': 100, 'weight': '20gm packet'},\n",
              " 1006: {'name': 'Milkcake', 'price': 150, 'qn': 50, 'weight': '50gm packet'},\n",
              " 1007: {'bottle': '1litre', 'name': 'Cocacola', 'price': 60, 'qn': 70},\n",
              " 1008: {'bottle': '1litre', 'name': 'MountainDew', 'price': 80, 'qn': 50},\n",
              " 1009: {'bottle': '2litre', 'name': 'Pepsi', 'price': 120, 'qn': 65},\n",
              " 1010: {'bottle': '1litre', 'name': 'Fanta', 'price': 50, 'qn': 70},\n",
              " 1011: {'bottle': '2litre', 'name': 'Slice', 'price': 150, 'qn': 80},\n",
              " 1012: {'name': 'Rice', 'price': 150, 'qn': 70, 'weight': '5kg packet'},\n",
              " 1013: {'name': 'Dal', 'price': 120, 'qn': 90, 'weight': '1kg packet'},\n",
              " 1014: {'name': 'Salt', 'price': 50, 'qn': 75, 'weight': '500gm packet'},\n",
              " 1015: {'color': 'black', 'name': 'pen', 'price': 20, 'qn': 100},\n",
              " 1016: {'company': 'classmate', 'name': 'copy', 'price': 65, 'qn': 80},\n",
              " 1017: {'company': 'Samsung', 'name': 'Mobile', 'price': 40000, 'qn': 50},\n",
              " 1018: {'company': 'Dell', 'name': 'Laptop', 'price': 60000, 'qn': 40},\n",
              " 1019: {'company': 'Canon', 'name': 'Printer', 'price': 12000, 'qn': 80},\n",
              " 1020: {'company': 'hp', 'name': 'Keyboard', 'price': 2000, 'qn': 100},\n",
              " 1021: {'company': 'Dell', 'name': 'Monitor', 'price': 2500, 'qn': 55},\n",
              " 1022: {'company': 'Nikon', 'name': 'Camera', 'price': 80000, 'qn': 80},\n",
              " 1023: {'company': 'Timex', 'name': 'watch', 'price': 1500, 'qn': 60},\n",
              " 1024: {'company': 'Casio', 'name': 'calculator', 'price': 550, 'qn': 70},\n",
              " 1025: {'company': 'Philips', 'name': 'Bulb', 'price': 120, 'qn': 50}}"
            ]
          },
          "metadata": {},
          "execution_count": 4
        }
      ]
    },
    {
      "cell_type": "code",
      "metadata": {
        "id": "wOp1gEvro2sz"
      },
      "source": [
        "import json"
      ],
      "execution_count": 2,
      "outputs": []
    },
    {
      "cell_type": "code",
      "metadata": {
        "id": "eEFHtjxITSXS"
      },
      "source": [
        "js=json.dumps(records)"
      ],
      "execution_count": 3,
      "outputs": []
    },
    {
      "cell_type": "code",
      "metadata": {
        "id": "sj3Sict3TYX9"
      },
      "source": [
        "fd=open('records.json','w')\n",
        "fd.write(js)\n",
        "fd.close()"
      ],
      "execution_count": 4,
      "outputs": []
    },
    {
      "cell_type": "code",
      "metadata": {
        "id": "ce9X1TjEnjbd"
      },
      "source": [
        "fd=open(\"records.json\",'r')\n",
        "r=fd.read()\n",
        "fd.close()\n",
        "records=json.loads(r)"
      ],
      "execution_count": 5,
      "outputs": []
    },
    {
      "cell_type": "code",
      "metadata": {
        "colab": {
          "base_uri": "https://localhost:8080/"
        },
        "id": "m2QmQk5otw9i",
        "outputId": "ba475852-4866-4135-f40d-8342d4a376f7"
      },
      "source": [
        "45for i in range(0,5,1):\n",
        "  prod_id=str(input('enter product id:'))\n",
        "  name=str(input('enter name:'))\n",
        "  price=str(input('enter price:'))\n",
        "  qn=str(input('enter quantity:'))\n",
        "  company=str(input('enter company:'))\n",
        "  records[prod_id]={'name':name,'price':price,'qn':qn,'company':company}\n",
        "  js=json.dumps(records)\n",
        "  fd=open('records.json','w')\n",
        "  fd.write(js)\n",
        "  fd.close()\n"
      ],
      "execution_count": 10,
      "outputs": [
        {
          "name": "stdout",
          "output_type": "stream",
          "text": [
            "enter product id:1026\n",
            "enter name:mouse\n",
            "enter price:450\n",
            "enter quantity:55\n",
            "enter company:ADnet\n",
            "enter product id:1027\n",
            "enter name:TV\n",
            "enter price:45000\n",
            "enter quantity:50\n",
            "enter company:samsung\n",
            "enter product id:1027\n",
            "enter name:clock\n",
            "enter price:700\n",
            "enter quantity:40\n",
            "enter company:quartz\n",
            "enter product id:1028\n",
            "enter name:schoolbag\n",
            "enter price:1500\n",
            "enter quantity:50\n",
            "enter company:skybag\n",
            "enter product id:1029\n",
            "enter name:shoe\n",
            "enter price:800\n",
            "enter quantity:45\n",
            "enter company:flite\n"
          ]
        }
      ]
    },
    {
      "cell_type": "code",
      "metadata": {
        "colab": {
          "base_uri": "https://localhost:8080/"
        },
        "id": "a0CLYIhxvdzT",
        "outputId": "cf5764ce-da01-4058-b3bd-52c298222032"
      },
      "source": [
        "records"
      ],
      "execution_count": 11,
      "outputs": [
        {
          "output_type": "execute_result",
          "data": {
            "text/plain": [
              "{'1001': {'name': 'Horlicks',\n",
              "  'price': 250,\n",
              "  'qn': 50,\n",
              "  'weight': '500gm packet'},\n",
              " '1002': {'name': 'Complain',\n",
              "  'price': 300,\n",
              "  'qn': 70,\n",
              "  'weight': '500gm packet'},\n",
              " '1003': {'name': 'Bournvita', 'price': 600, 'qn': 45, 'weight': '1kg packet'},\n",
              " '1004': {'name': 'Brenolia',\n",
              "  'price': 300,\n",
              "  'qn': 30,\n",
              "  'weight': '250gm packet'},\n",
              " '1005': {'name': 'Dairymilk',\n",
              "  'price': 60,\n",
              "  'qn': 100,\n",
              "  'weight': '20gm packet'},\n",
              " '1006': {'name': 'Milkcake', 'price': 150, 'qn': 50, 'weight': '50gm packet'},\n",
              " '1007': {'bottle': '1litre', 'name': 'Cocacola', 'price': 60, 'qn': 70},\n",
              " '1008': {'bottle': '1litre', 'name': 'MountainDew', 'price': 80, 'qn': 50},\n",
              " '1009': {'bottle': '2litre', 'name': 'Pepsi', 'price': 120, 'qn': 65},\n",
              " '1010': {'bottle': '1litre', 'name': 'Fanta', 'price': 50, 'qn': 70},\n",
              " '1011': {'bottle': '2litre', 'name': 'Slice', 'price': 150, 'qn': 80},\n",
              " '1012': {'name': 'Rice', 'price': 150, 'qn': 70, 'weight': '5kg packet'},\n",
              " '1013': {'name': 'Dal', 'price': 120, 'qn': 90, 'weight': '1kg packet'},\n",
              " '1014': {'name': 'Salt', 'price': 50, 'qn': 75, 'weight': '500gm packet'},\n",
              " '1015': {'color': 'black', 'name': 'pen', 'price': 20, 'qn': 100},\n",
              " '1016': {'company': 'classmate', 'name': 'copy', 'price': 65, 'qn': 80},\n",
              " '1017': {'company': 'Samsung', 'name': 'Mobile', 'price': 40000, 'qn': 50},\n",
              " '1018': {'company': 'Dell', 'name': 'Laptop', 'price': 60000, 'qn': 40},\n",
              " '1019': {'company': 'Canon', 'name': 'Printer', 'price': 12000, 'qn': 80},\n",
              " '1020': {'company': 'hp', 'name': 'Keyboard', 'price': 2000, 'qn': 100},\n",
              " '1021': {'company': 'Dell', 'name': 'Monitor', 'price': 2500, 'qn': 55},\n",
              " '1022': {'company': 'Nikon', 'name': 'Camera', 'price': 80000, 'qn': 80},\n",
              " '1023': {'company': 'Timex', 'name': 'watch', 'price': 1500, 'qn': 60},\n",
              " '1024': {'company': 'Casio', 'name': 'calculator', 'price': 550, 'qn': 70},\n",
              " '1025': {'company': 'Philips', 'name': 'Bulb', 'price': 120, 'qn': 50},\n",
              " '1026': {'company': 'ADnet', 'name': 'mouse', 'price': '450', 'qn': '55'},\n",
              " '1027': {'company': 'quartz', 'name': 'clock', 'price': '700', 'qn': '40'},\n",
              " '1028': {'company': 'skybag',\n",
              "  'name': 'schoolbag',\n",
              "  'price': '1500',\n",
              "  'qn': '50'},\n",
              " '1029': {'company': 'flite', 'name': 'shoe', 'price': '800', 'qn': '45'}}"
            ]
          },
          "metadata": {},
          "execution_count": 11
        }
      ]
    }
  ]
}